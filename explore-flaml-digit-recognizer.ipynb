{
 "cells": [
  {
   "cell_type": "markdown",
   "id": "ba8b3405",
   "metadata": {
    "papermill": {
     "duration": 0.015353,
     "end_time": "2024-09-14T23:58:31.192927",
     "exception": false,
     "start_time": "2024-09-14T23:58:31.177574",
     "status": "completed"
    },
    "tags": []
   },
   "source": [
    "# Settings Environment"
   ]
  },
  {
   "cell_type": "code",
   "execution_count": 1,
   "id": "7f7fc377",
   "metadata": {
    "execution": {
     "iopub.execute_input": "2024-09-14T23:58:31.223135Z",
     "iopub.status.busy": "2024-09-14T23:58:31.222551Z",
     "iopub.status.idle": "2024-09-14T23:58:33.832164Z",
     "shell.execute_reply": "2024-09-14T23:58:33.830995Z"
    },
    "papermill": {
     "duration": 2.628489,
     "end_time": "2024-09-14T23:58:33.835384",
     "exception": false,
     "start_time": "2024-09-14T23:58:31.206895",
     "status": "completed"
    },
    "tags": []
   },
   "outputs": [],
   "source": [
    "import random\n",
    "import warnings\n",
    "import numpy as np\n",
    "import pandas as pd\n",
    "import seaborn as sns\n",
    "import matplotlib.pyplot as plt\n",
    "from sklearn.model_selection import train_test_split\n",
    "\n",
    "warnings.filterwarnings('ignore')"
   ]
  },
  {
   "cell_type": "markdown",
   "id": "85b306af",
   "metadata": {
    "papermill": {
     "duration": 0.013395,
     "end_time": "2024-09-14T23:58:33.862663",
     "exception": false,
     "start_time": "2024-09-14T23:58:33.849268",
     "status": "completed"
    },
    "tags": []
   },
   "source": [
    "--------\n",
    "# EDA"
   ]
  },
  {
   "cell_type": "code",
   "execution_count": 2,
   "id": "fc672c00",
   "metadata": {
    "execution": {
     "iopub.execute_input": "2024-09-14T23:58:33.892709Z",
     "iopub.status.busy": "2024-09-14T23:58:33.892137Z",
     "iopub.status.idle": "2024-09-14T23:58:40.891724Z",
     "shell.execute_reply": "2024-09-14T23:58:40.890484Z"
    },
    "papermill": {
     "duration": 7.018104,
     "end_time": "2024-09-14T23:58:40.894747",
     "exception": false,
     "start_time": "2024-09-14T23:58:33.876643",
     "status": "completed"
    },
    "tags": []
   },
   "outputs": [],
   "source": [
    "df_train = pd.read_csv('/kaggle/input/digit-recognizer/train.csv')\n",
    "df_test = pd.read_csv('/kaggle/input/digit-recognizer/test.csv')\n",
    "submission = pd.read_csv('/kaggle/input/digit-recognizer/sample_submission.csv')"
   ]
  },
  {
   "cell_type": "code",
   "execution_count": 3,
   "id": "8505a3c7",
   "metadata": {
    "execution": {
     "iopub.execute_input": "2024-09-14T23:58:40.924362Z",
     "iopub.status.busy": "2024-09-14T23:58:40.923862Z",
     "iopub.status.idle": "2024-09-14T23:58:40.932682Z",
     "shell.execute_reply": "2024-09-14T23:58:40.931487Z"
    },
    "papermill": {
     "duration": 0.026665,
     "end_time": "2024-09-14T23:58:40.935381",
     "exception": false,
     "start_time": "2024-09-14T23:58:40.908716",
     "status": "completed"
    },
    "tags": []
   },
   "outputs": [
    {
     "data": {
      "text/plain": [
       "((42000, 785), (28000, 784))"
      ]
     },
     "execution_count": 3,
     "metadata": {},
     "output_type": "execute_result"
    }
   ],
   "source": [
    "df_train.shape, df_test.shape"
   ]
  },
  {
   "cell_type": "code",
   "execution_count": 4,
   "id": "f8cbd6f1",
   "metadata": {
    "execution": {
     "iopub.execute_input": "2024-09-14T23:58:40.965386Z",
     "iopub.status.busy": "2024-09-14T23:58:40.964897Z",
     "iopub.status.idle": "2024-09-14T23:58:40.994558Z",
     "shell.execute_reply": "2024-09-14T23:58:40.993343Z"
    },
    "papermill": {
     "duration": 0.047636,
     "end_time": "2024-09-14T23:58:40.997321",
     "exception": false,
     "start_time": "2024-09-14T23:58:40.949685",
     "status": "completed"
    },
    "tags": []
   },
   "outputs": [
    {
     "data": {
      "text/html": [
       "<div>\n",
       "<style scoped>\n",
       "    .dataframe tbody tr th:only-of-type {\n",
       "        vertical-align: middle;\n",
       "    }\n",
       "\n",
       "    .dataframe tbody tr th {\n",
       "        vertical-align: top;\n",
       "    }\n",
       "\n",
       "    .dataframe thead th {\n",
       "        text-align: right;\n",
       "    }\n",
       "</style>\n",
       "<table border=\"1\" class=\"dataframe\">\n",
       "  <thead>\n",
       "    <tr style=\"text-align: right;\">\n",
       "      <th></th>\n",
       "      <th>label</th>\n",
       "      <th>pixel0</th>\n",
       "      <th>pixel1</th>\n",
       "      <th>pixel2</th>\n",
       "      <th>pixel3</th>\n",
       "      <th>pixel4</th>\n",
       "      <th>pixel5</th>\n",
       "      <th>pixel6</th>\n",
       "      <th>pixel7</th>\n",
       "      <th>pixel8</th>\n",
       "      <th>...</th>\n",
       "      <th>pixel774</th>\n",
       "      <th>pixel775</th>\n",
       "      <th>pixel776</th>\n",
       "      <th>pixel777</th>\n",
       "      <th>pixel778</th>\n",
       "      <th>pixel779</th>\n",
       "      <th>pixel780</th>\n",
       "      <th>pixel781</th>\n",
       "      <th>pixel782</th>\n",
       "      <th>pixel783</th>\n",
       "    </tr>\n",
       "  </thead>\n",
       "  <tbody>\n",
       "    <tr>\n",
       "      <th>0</th>\n",
       "      <td>1</td>\n",
       "      <td>0</td>\n",
       "      <td>0</td>\n",
       "      <td>0</td>\n",
       "      <td>0</td>\n",
       "      <td>0</td>\n",
       "      <td>0</td>\n",
       "      <td>0</td>\n",
       "      <td>0</td>\n",
       "      <td>0</td>\n",
       "      <td>...</td>\n",
       "      <td>0</td>\n",
       "      <td>0</td>\n",
       "      <td>0</td>\n",
       "      <td>0</td>\n",
       "      <td>0</td>\n",
       "      <td>0</td>\n",
       "      <td>0</td>\n",
       "      <td>0</td>\n",
       "      <td>0</td>\n",
       "      <td>0</td>\n",
       "    </tr>\n",
       "    <tr>\n",
       "      <th>1</th>\n",
       "      <td>0</td>\n",
       "      <td>0</td>\n",
       "      <td>0</td>\n",
       "      <td>0</td>\n",
       "      <td>0</td>\n",
       "      <td>0</td>\n",
       "      <td>0</td>\n",
       "      <td>0</td>\n",
       "      <td>0</td>\n",
       "      <td>0</td>\n",
       "      <td>...</td>\n",
       "      <td>0</td>\n",
       "      <td>0</td>\n",
       "      <td>0</td>\n",
       "      <td>0</td>\n",
       "      <td>0</td>\n",
       "      <td>0</td>\n",
       "      <td>0</td>\n",
       "      <td>0</td>\n",
       "      <td>0</td>\n",
       "      <td>0</td>\n",
       "    </tr>\n",
       "    <tr>\n",
       "      <th>2</th>\n",
       "      <td>1</td>\n",
       "      <td>0</td>\n",
       "      <td>0</td>\n",
       "      <td>0</td>\n",
       "      <td>0</td>\n",
       "      <td>0</td>\n",
       "      <td>0</td>\n",
       "      <td>0</td>\n",
       "      <td>0</td>\n",
       "      <td>0</td>\n",
       "      <td>...</td>\n",
       "      <td>0</td>\n",
       "      <td>0</td>\n",
       "      <td>0</td>\n",
       "      <td>0</td>\n",
       "      <td>0</td>\n",
       "      <td>0</td>\n",
       "      <td>0</td>\n",
       "      <td>0</td>\n",
       "      <td>0</td>\n",
       "      <td>0</td>\n",
       "    </tr>\n",
       "    <tr>\n",
       "      <th>3</th>\n",
       "      <td>4</td>\n",
       "      <td>0</td>\n",
       "      <td>0</td>\n",
       "      <td>0</td>\n",
       "      <td>0</td>\n",
       "      <td>0</td>\n",
       "      <td>0</td>\n",
       "      <td>0</td>\n",
       "      <td>0</td>\n",
       "      <td>0</td>\n",
       "      <td>...</td>\n",
       "      <td>0</td>\n",
       "      <td>0</td>\n",
       "      <td>0</td>\n",
       "      <td>0</td>\n",
       "      <td>0</td>\n",
       "      <td>0</td>\n",
       "      <td>0</td>\n",
       "      <td>0</td>\n",
       "      <td>0</td>\n",
       "      <td>0</td>\n",
       "    </tr>\n",
       "    <tr>\n",
       "      <th>4</th>\n",
       "      <td>0</td>\n",
       "      <td>0</td>\n",
       "      <td>0</td>\n",
       "      <td>0</td>\n",
       "      <td>0</td>\n",
       "      <td>0</td>\n",
       "      <td>0</td>\n",
       "      <td>0</td>\n",
       "      <td>0</td>\n",
       "      <td>0</td>\n",
       "      <td>...</td>\n",
       "      <td>0</td>\n",
       "      <td>0</td>\n",
       "      <td>0</td>\n",
       "      <td>0</td>\n",
       "      <td>0</td>\n",
       "      <td>0</td>\n",
       "      <td>0</td>\n",
       "      <td>0</td>\n",
       "      <td>0</td>\n",
       "      <td>0</td>\n",
       "    </tr>\n",
       "  </tbody>\n",
       "</table>\n",
       "<p>5 rows × 785 columns</p>\n",
       "</div>"
      ],
      "text/plain": [
       "   label  pixel0  pixel1  pixel2  pixel3  pixel4  pixel5  pixel6  pixel7  \\\n",
       "0      1       0       0       0       0       0       0       0       0   \n",
       "1      0       0       0       0       0       0       0       0       0   \n",
       "2      1       0       0       0       0       0       0       0       0   \n",
       "3      4       0       0       0       0       0       0       0       0   \n",
       "4      0       0       0       0       0       0       0       0       0   \n",
       "\n",
       "   pixel8  ...  pixel774  pixel775  pixel776  pixel777  pixel778  pixel779  \\\n",
       "0       0  ...         0         0         0         0         0         0   \n",
       "1       0  ...         0         0         0         0         0         0   \n",
       "2       0  ...         0         0         0         0         0         0   \n",
       "3       0  ...         0         0         0         0         0         0   \n",
       "4       0  ...         0         0         0         0         0         0   \n",
       "\n",
       "   pixel780  pixel781  pixel782  pixel783  \n",
       "0         0         0         0         0  \n",
       "1         0         0         0         0  \n",
       "2         0         0         0         0  \n",
       "3         0         0         0         0  \n",
       "4         0         0         0         0  \n",
       "\n",
       "[5 rows x 785 columns]"
      ]
     },
     "execution_count": 4,
     "metadata": {},
     "output_type": "execute_result"
    }
   ],
   "source": [
    "df_train.head()"
   ]
  },
  {
   "cell_type": "code",
   "execution_count": 5,
   "id": "91e46811",
   "metadata": {
    "execution": {
     "iopub.execute_input": "2024-09-14T23:58:41.029045Z",
     "iopub.status.busy": "2024-09-14T23:58:41.027839Z",
     "iopub.status.idle": "2024-09-14T23:58:41.049228Z",
     "shell.execute_reply": "2024-09-14T23:58:41.047842Z"
    },
    "papermill": {
     "duration": 0.040045,
     "end_time": "2024-09-14T23:58:41.051769",
     "exception": false,
     "start_time": "2024-09-14T23:58:41.011724",
     "status": "completed"
    },
    "tags": []
   },
   "outputs": [
    {
     "data": {
      "text/html": [
       "<div>\n",
       "<style scoped>\n",
       "    .dataframe tbody tr th:only-of-type {\n",
       "        vertical-align: middle;\n",
       "    }\n",
       "\n",
       "    .dataframe tbody tr th {\n",
       "        vertical-align: top;\n",
       "    }\n",
       "\n",
       "    .dataframe thead th {\n",
       "        text-align: right;\n",
       "    }\n",
       "</style>\n",
       "<table border=\"1\" class=\"dataframe\">\n",
       "  <thead>\n",
       "    <tr style=\"text-align: right;\">\n",
       "      <th></th>\n",
       "      <th>pixel0</th>\n",
       "      <th>pixel1</th>\n",
       "      <th>pixel2</th>\n",
       "      <th>pixel3</th>\n",
       "      <th>pixel4</th>\n",
       "      <th>pixel5</th>\n",
       "      <th>pixel6</th>\n",
       "      <th>pixel7</th>\n",
       "      <th>pixel8</th>\n",
       "      <th>pixel9</th>\n",
       "      <th>...</th>\n",
       "      <th>pixel774</th>\n",
       "      <th>pixel775</th>\n",
       "      <th>pixel776</th>\n",
       "      <th>pixel777</th>\n",
       "      <th>pixel778</th>\n",
       "      <th>pixel779</th>\n",
       "      <th>pixel780</th>\n",
       "      <th>pixel781</th>\n",
       "      <th>pixel782</th>\n",
       "      <th>pixel783</th>\n",
       "    </tr>\n",
       "  </thead>\n",
       "  <tbody>\n",
       "    <tr>\n",
       "      <th>0</th>\n",
       "      <td>0</td>\n",
       "      <td>0</td>\n",
       "      <td>0</td>\n",
       "      <td>0</td>\n",
       "      <td>0</td>\n",
       "      <td>0</td>\n",
       "      <td>0</td>\n",
       "      <td>0</td>\n",
       "      <td>0</td>\n",
       "      <td>0</td>\n",
       "      <td>...</td>\n",
       "      <td>0</td>\n",
       "      <td>0</td>\n",
       "      <td>0</td>\n",
       "      <td>0</td>\n",
       "      <td>0</td>\n",
       "      <td>0</td>\n",
       "      <td>0</td>\n",
       "      <td>0</td>\n",
       "      <td>0</td>\n",
       "      <td>0</td>\n",
       "    </tr>\n",
       "    <tr>\n",
       "      <th>1</th>\n",
       "      <td>0</td>\n",
       "      <td>0</td>\n",
       "      <td>0</td>\n",
       "      <td>0</td>\n",
       "      <td>0</td>\n",
       "      <td>0</td>\n",
       "      <td>0</td>\n",
       "      <td>0</td>\n",
       "      <td>0</td>\n",
       "      <td>0</td>\n",
       "      <td>...</td>\n",
       "      <td>0</td>\n",
       "      <td>0</td>\n",
       "      <td>0</td>\n",
       "      <td>0</td>\n",
       "      <td>0</td>\n",
       "      <td>0</td>\n",
       "      <td>0</td>\n",
       "      <td>0</td>\n",
       "      <td>0</td>\n",
       "      <td>0</td>\n",
       "    </tr>\n",
       "    <tr>\n",
       "      <th>2</th>\n",
       "      <td>0</td>\n",
       "      <td>0</td>\n",
       "      <td>0</td>\n",
       "      <td>0</td>\n",
       "      <td>0</td>\n",
       "      <td>0</td>\n",
       "      <td>0</td>\n",
       "      <td>0</td>\n",
       "      <td>0</td>\n",
       "      <td>0</td>\n",
       "      <td>...</td>\n",
       "      <td>0</td>\n",
       "      <td>0</td>\n",
       "      <td>0</td>\n",
       "      <td>0</td>\n",
       "      <td>0</td>\n",
       "      <td>0</td>\n",
       "      <td>0</td>\n",
       "      <td>0</td>\n",
       "      <td>0</td>\n",
       "      <td>0</td>\n",
       "    </tr>\n",
       "    <tr>\n",
       "      <th>3</th>\n",
       "      <td>0</td>\n",
       "      <td>0</td>\n",
       "      <td>0</td>\n",
       "      <td>0</td>\n",
       "      <td>0</td>\n",
       "      <td>0</td>\n",
       "      <td>0</td>\n",
       "      <td>0</td>\n",
       "      <td>0</td>\n",
       "      <td>0</td>\n",
       "      <td>...</td>\n",
       "      <td>0</td>\n",
       "      <td>0</td>\n",
       "      <td>0</td>\n",
       "      <td>0</td>\n",
       "      <td>0</td>\n",
       "      <td>0</td>\n",
       "      <td>0</td>\n",
       "      <td>0</td>\n",
       "      <td>0</td>\n",
       "      <td>0</td>\n",
       "    </tr>\n",
       "    <tr>\n",
       "      <th>4</th>\n",
       "      <td>0</td>\n",
       "      <td>0</td>\n",
       "      <td>0</td>\n",
       "      <td>0</td>\n",
       "      <td>0</td>\n",
       "      <td>0</td>\n",
       "      <td>0</td>\n",
       "      <td>0</td>\n",
       "      <td>0</td>\n",
       "      <td>0</td>\n",
       "      <td>...</td>\n",
       "      <td>0</td>\n",
       "      <td>0</td>\n",
       "      <td>0</td>\n",
       "      <td>0</td>\n",
       "      <td>0</td>\n",
       "      <td>0</td>\n",
       "      <td>0</td>\n",
       "      <td>0</td>\n",
       "      <td>0</td>\n",
       "      <td>0</td>\n",
       "    </tr>\n",
       "  </tbody>\n",
       "</table>\n",
       "<p>5 rows × 784 columns</p>\n",
       "</div>"
      ],
      "text/plain": [
       "   pixel0  pixel1  pixel2  pixel3  pixel4  pixel5  pixel6  pixel7  pixel8  \\\n",
       "0       0       0       0       0       0       0       0       0       0   \n",
       "1       0       0       0       0       0       0       0       0       0   \n",
       "2       0       0       0       0       0       0       0       0       0   \n",
       "3       0       0       0       0       0       0       0       0       0   \n",
       "4       0       0       0       0       0       0       0       0       0   \n",
       "\n",
       "   pixel9  ...  pixel774  pixel775  pixel776  pixel777  pixel778  pixel779  \\\n",
       "0       0  ...         0         0         0         0         0         0   \n",
       "1       0  ...         0         0         0         0         0         0   \n",
       "2       0  ...         0         0         0         0         0         0   \n",
       "3       0  ...         0         0         0         0         0         0   \n",
       "4       0  ...         0         0         0         0         0         0   \n",
       "\n",
       "   pixel780  pixel781  pixel782  pixel783  \n",
       "0         0         0         0         0  \n",
       "1         0         0         0         0  \n",
       "2         0         0         0         0  \n",
       "3         0         0         0         0  \n",
       "4         0         0         0         0  \n",
       "\n",
       "[5 rows x 784 columns]"
      ]
     },
     "execution_count": 5,
     "metadata": {},
     "output_type": "execute_result"
    }
   ],
   "source": [
    "df_test.head()"
   ]
  },
  {
   "cell_type": "code",
   "execution_count": 6,
   "id": "8c59683a",
   "metadata": {
    "execution": {
     "iopub.execute_input": "2024-09-14T23:58:41.083022Z",
     "iopub.status.busy": "2024-09-14T23:58:41.082561Z",
     "iopub.status.idle": "2024-09-14T23:58:41.685780Z",
     "shell.execute_reply": "2024-09-14T23:58:41.684461Z"
    },
    "papermill": {
     "duration": 0.622076,
     "end_time": "2024-09-14T23:58:41.688517",
     "exception": false,
     "start_time": "2024-09-14T23:58:41.066441",
     "status": "completed"
    },
    "tags": []
   },
   "outputs": [
    {
     "data": {
      "image/png": "[encoded data removed]",
      "text/plain": [
       "<Figure size 2000x400 with 6 Axes>"
      ]
     },
     "metadata": {},
     "output_type": "display_data"
    }
   ],
   "source": [
    "fig, axes = plt.subplots(2, 3, figsize=(20, 4))\n",
    "axes = axes.flatten()\n",
    "\n",
    "for i in range(6):\n",
    "    random_image = random.randint(0,df_train.shape[0]) \n",
    "    image = df_train.iloc[random_image, 1:].values\n",
    "    label = df_train.iloc[random_image, 0]\n",
    "    \n",
    "    image_data = image.reshape(28, 28)\n",
    "    \n",
    "    axes[i-1].imshow(image_data, cmap='Reds')\n",
    "    axes[i-1].set_title(f'Label: {label}')\n",
    "    axes[i-1].axis('off') \n",
    "\n",
    "plt.suptitle(\"Training Images\", size=16)\n",
    "plt.tight_layout()\n",
    "plt.show()"
   ]
  },
  {
   "cell_type": "code",
   "execution_count": 7,
   "id": "e74b17d4",
   "metadata": {
    "execution": {
     "iopub.execute_input": "2024-09-14T23:58:41.721146Z",
     "iopub.status.busy": "2024-09-14T23:58:41.720666Z",
     "iopub.status.idle": "2024-09-14T23:58:41.780454Z",
     "shell.execute_reply": "2024-09-14T23:58:41.779163Z"
    },
    "papermill": {
     "duration": 0.079373,
     "end_time": "2024-09-14T23:58:41.783301",
     "exception": false,
     "start_time": "2024-09-14T23:58:41.703928",
     "status": "completed"
    },
    "tags": []
   },
   "outputs": [
    {
     "name": "stdout",
     "output_type": "stream",
     "text": [
      "<class 'pandas.core.frame.DataFrame'>\n",
      "RangeIndex: 42000 entries, 0 to 41999\n",
      "Columns: 785 entries, label to pixel783\n",
      "dtypes: int64(785)\n",
      "memory usage: 251.5 MB\n",
      "None\n"
     ]
    }
   ],
   "source": [
    "print(df_train.info())"
   ]
  },
  {
   "cell_type": "code",
   "execution_count": 8,
   "id": "4fd8b4d1",
   "metadata": {
    "execution": {
     "iopub.execute_input": "2024-09-14T23:58:41.815927Z",
     "iopub.status.busy": "2024-09-14T23:58:41.815446Z",
     "iopub.status.idle": "2024-09-14T23:58:41.862953Z",
     "shell.execute_reply": "2024-09-14T23:58:41.861278Z"
    },
    "papermill": {
     "duration": 0.066995,
     "end_time": "2024-09-14T23:58:41.865568",
     "exception": false,
     "start_time": "2024-09-14T23:58:41.798573",
     "status": "completed"
    },
    "tags": []
   },
   "outputs": [
    {
     "name": "stdout",
     "output_type": "stream",
     "text": [
      "<class 'pandas.core.frame.DataFrame'>\n",
      "RangeIndex: 28000 entries, 0 to 27999\n",
      "Columns: 784 entries, pixel0 to pixel783\n",
      "dtypes: int64(784)\n",
      "memory usage: 167.5 MB\n",
      "None\n"
     ]
    }
   ],
   "source": [
    "print(df_test.info())"
   ]
  },
  {
   "cell_type": "code",
   "execution_count": 9,
   "id": "7332d6a2",
   "metadata": {
    "execution": {
     "iopub.execute_input": "2024-09-14T23:58:41.898836Z",
     "iopub.status.busy": "2024-09-14T23:58:41.897849Z",
     "iopub.status.idle": "2024-09-14T23:58:41.933168Z",
     "shell.execute_reply": "2024-09-14T23:58:41.931870Z"
    },
    "papermill": {
     "duration": 0.055133,
     "end_time": "2024-09-14T23:58:41.936069",
     "exception": false,
     "start_time": "2024-09-14T23:58:41.880936",
     "status": "completed"
    },
    "tags": []
   },
   "outputs": [
    {
     "data": {
      "text/plain": [
       "0"
      ]
     },
     "execution_count": 9,
     "metadata": {},
     "output_type": "execute_result"
    }
   ],
   "source": [
    "df_train.isna().sum().sum()"
   ]
  },
  {
   "cell_type": "code",
   "execution_count": 10,
   "id": "bcecc493",
   "metadata": {
    "execution": {
     "iopub.execute_input": "2024-09-14T23:58:41.969934Z",
     "iopub.status.busy": "2024-09-14T23:58:41.969493Z",
     "iopub.status.idle": "2024-09-14T23:58:41.996095Z",
     "shell.execute_reply": "2024-09-14T23:58:41.994918Z"
    },
    "papermill": {
     "duration": 0.046801,
     "end_time": "2024-09-14T23:58:41.998752",
     "exception": false,
     "start_time": "2024-09-14T23:58:41.951951",
     "status": "completed"
    },
    "tags": []
   },
   "outputs": [
    {
     "data": {
      "text/plain": [
       "0"
      ]
     },
     "execution_count": 10,
     "metadata": {},
     "output_type": "execute_result"
    }
   ],
   "source": [
    "df_test.isna().sum().sum()"
   ]
  },
  {
   "cell_type": "code",
   "execution_count": 11,
   "id": "6a0f43b3",
   "metadata": {
    "execution": {
     "iopub.execute_input": "2024-09-14T23:58:42.032336Z",
     "iopub.status.busy": "2024-09-14T23:58:42.031881Z",
     "iopub.status.idle": "2024-09-14T23:58:42.360913Z",
     "shell.execute_reply": "2024-09-14T23:58:42.359738Z"
    },
    "papermill": {
     "duration": 0.348828,
     "end_time": "2024-09-14T23:58:42.363626",
     "exception": false,
     "start_time": "2024-09-14T23:58:42.014798",
     "status": "completed"
    },
    "tags": []
   },
   "outputs": [
    {
     "data": {
      "image/png": "[encoded data removed]",
      "text/plain": [
       "<Figure size 2000x400 with 1 Axes>"
      ]
     },
     "metadata": {},
     "output_type": "display_data"
    }
   ],
   "source": [
    "plt.figure(figsize=(20,4))\n",
    "sns.countplot(df_train, x='label', palette='magma')\n",
    "plt.title(\"Labels Distribution\", size=16)\n",
    "plt.xlabel(\"Digits\")\n",
    "plt.ylabel(\"Count\")\n",
    "plt.show()"
   ]
  },
  {
   "cell_type": "code",
   "execution_count": 12,
   "id": "ecc1d826",
   "metadata": {
    "execution": {
     "iopub.execute_input": "2024-09-14T23:58:42.397759Z",
     "iopub.status.busy": "2024-09-14T23:58:42.397325Z",
     "iopub.status.idle": "2024-09-14T23:58:42.510223Z",
     "shell.execute_reply": "2024-09-14T23:58:42.509049Z"
    },
    "papermill": {
     "duration": 0.133409,
     "end_time": "2024-09-14T23:58:42.513107",
     "exception": false,
     "start_time": "2024-09-14T23:58:42.379698",
     "status": "completed"
    },
    "tags": []
   },
   "outputs": [],
   "source": [
    "X = df_train.drop(columns='label')\n",
    "y = df_train['label']"
   ]
  },
  {
   "cell_type": "code",
   "execution_count": 13,
   "id": "3bdfd8cb",
   "metadata": {
    "execution": {
     "iopub.execute_input": "2024-09-14T23:58:42.547476Z",
     "iopub.status.busy": "2024-09-14T23:58:42.547047Z",
     "iopub.status.idle": "2024-09-14T23:58:42.554432Z",
     "shell.execute_reply": "2024-09-14T23:58:42.553336Z"
    },
    "papermill": {
     "duration": 0.027578,
     "end_time": "2024-09-14T23:58:42.556900",
     "exception": false,
     "start_time": "2024-09-14T23:58:42.529322",
     "status": "completed"
    },
    "tags": []
   },
   "outputs": [
    {
     "data": {
      "text/plain": [
       "((42000, 784), (42000,))"
      ]
     },
     "execution_count": 13,
     "metadata": {},
     "output_type": "execute_result"
    }
   ],
   "source": [
    "X.shape, y.shape"
   ]
  },
  {
   "cell_type": "markdown",
   "id": "35191c24",
   "metadata": {
    "papermill": {
     "duration": 0.015904,
     "end_time": "2024-09-14T23:58:42.589416",
     "exception": false,
     "start_time": "2024-09-14T23:58:42.573512",
     "status": "completed"
    },
    "tags": []
   },
   "source": [
    "--------\n",
    "# FLAML\n",
    "\n",
    "- Learning by documentation >> [FLAML](https://microsoft.github.io/FLAML/)\n",
    "- Notebook Base >> [Colab FLAML](https://colab.research.google.com/github/microsoft/FLAML/blob/main/notebook/automl_classification.ipynb#scrollTo=TCE2xLMnrKBO)"
   ]
  },
  {
   "cell_type": "code",
   "execution_count": 14,
   "id": "d0ea4092",
   "metadata": {
    "execution": {
     "iopub.execute_input": "2024-09-14T23:58:42.624414Z",
     "iopub.status.busy": "2024-09-14T23:58:42.623608Z",
     "iopub.status.idle": "2024-09-14T23:59:00.940399Z",
     "shell.execute_reply": "2024-09-14T23:59:00.938601Z"
    },
    "papermill": {
     "duration": 18.338254,
     "end_time": "2024-09-14T23:59:00.943775",
     "exception": false,
     "start_time": "2024-09-14T23:58:42.605521",
     "status": "completed"
    },
    "tags": []
   },
   "outputs": [],
   "source": [
    "!pip install flaml -q"
   ]
  },
  {
   "cell_type": "code",
   "execution_count": 15,
   "id": "526acdd5",
   "metadata": {
    "execution": {
     "iopub.execute_input": "2024-09-14T23:59:00.980490Z",
     "iopub.status.busy": "2024-09-14T23:59:00.978954Z",
     "iopub.status.idle": "2024-09-14T23:59:18.380542Z",
     "shell.execute_reply": "2024-09-14T23:59:18.379062Z"
    },
    "papermill": {
     "duration": 17.422659,
     "end_time": "2024-09-14T23:59:18.383543",
     "exception": false,
     "start_time": "2024-09-14T23:59:00.960884",
     "status": "completed"
    },
    "tags": []
   },
   "outputs": [
    {
     "name": "stdout",
     "output_type": "stream",
     "text": [
      "\u001b[31mERROR: pip's dependency resolver does not currently take into account all the packages that are installed. This behaviour is the source of the following dependency conflicts.\r\n",
      "bigframes 0.22.0 requires google-cloud-bigquery[bqstorage,pandas]>=3.10.0, but you have google-cloud-bigquery 2.34.4 which is incompatible.\r\n",
      "bigframes 0.22.0 requires google-cloud-storage>=2.0.0, but you have google-cloud-storage 1.44.0 which is incompatible.\r\n",
      "bigframes 0.22.0 requires pandas<2.1.4,>=1.5.0, but you have pandas 2.2.2 which is incompatible.\r\n",
      "dataproc-jupyter-plugin 0.1.79 requires pydantic~=1.10.0, but you have pydantic 2.8.2 which is incompatible.\u001b[0m\u001b[31m\r\n",
      "\u001b[0m"
     ]
    }
   ],
   "source": [
    "!pip install -U ipywidgets -q"
   ]
  },
  {
   "cell_type": "code",
   "execution_count": 16,
   "id": "8b89788a",
   "metadata": {
    "execution": {
     "iopub.execute_input": "2024-09-14T23:59:18.418676Z",
     "iopub.status.busy": "2024-09-14T23:59:18.418187Z",
     "iopub.status.idle": "2024-09-14T23:59:18.424453Z",
     "shell.execute_reply": "2024-09-14T23:59:18.423058Z"
    },
    "papermill": {
     "duration": 0.027264,
     "end_time": "2024-09-14T23:59:18.427277",
     "exception": false,
     "start_time": "2024-09-14T23:59:18.400013",
     "status": "completed"
    },
    "tags": []
   },
   "outputs": [],
   "source": [
    "from sklearn.model_selection import train_test_split"
   ]
  },
  {
   "cell_type": "code",
   "execution_count": 17,
   "id": "d25b30fd",
   "metadata": {
    "execution": {
     "iopub.execute_input": "2024-09-14T23:59:18.463078Z",
     "iopub.status.busy": "2024-09-14T23:59:18.462557Z",
     "iopub.status.idle": "2024-09-14T23:59:18.735957Z",
     "shell.execute_reply": "2024-09-14T23:59:18.734916Z"
    },
    "papermill": {
     "duration": 0.29427,
     "end_time": "2024-09-14T23:59:18.738851",
     "exception": false,
     "start_time": "2024-09-14T23:59:18.444581",
     "status": "completed"
    },
    "tags": []
   },
   "outputs": [],
   "source": [
    "X_train, X_valid, y_train, y_valid = train_test_split(X, y, test_size=0.20)"
   ]
  },
  {
   "cell_type": "code",
   "execution_count": 18,
   "id": "89068321",
   "metadata": {
    "execution": {
     "iopub.execute_input": "2024-09-14T23:59:18.772839Z",
     "iopub.status.busy": "2024-09-14T23:59:18.772428Z",
     "iopub.status.idle": "2024-09-14T23:59:18.780948Z",
     "shell.execute_reply": "2024-09-14T23:59:18.779821Z"
    },
    "papermill": {
     "duration": 0.028508,
     "end_time": "2024-09-14T23:59:18.783464",
     "exception": false,
     "start_time": "2024-09-14T23:59:18.754956",
     "status": "completed"
    },
    "tags": []
   },
   "outputs": [
    {
     "data": {
      "text/plain": [
       "((33600, 784), (8400, 784), (33600,), (8400,))"
      ]
     },
     "execution_count": 18,
     "metadata": {},
     "output_type": "execute_result"
    }
   ],
   "source": [
    "X_train.shape, X_valid.shape, y_train.shape, y_valid.shape"
   ]
  },
  {
   "cell_type": "code",
   "execution_count": 19,
   "id": "32df5087",
   "metadata": {
    "execution": {
     "iopub.execute_input": "2024-09-14T23:59:18.818476Z",
     "iopub.status.busy": "2024-09-14T23:59:18.817424Z",
     "iopub.status.idle": "2024-09-14T23:59:23.095353Z",
     "shell.execute_reply": "2024-09-14T23:59:23.094080Z"
    },
    "papermill": {
     "duration": 4.298767,
     "end_time": "2024-09-14T23:59:23.098525",
     "exception": false,
     "start_time": "2024-09-14T23:59:18.799758",
     "status": "completed"
    },
    "tags": []
   },
   "outputs": [
    {
     "name": "stderr",
     "output_type": "stream",
     "text": [
      "2024-09-14 23:59:19,902\tINFO util.py:124 -- Outdated packages:\n",
      "  ipywidgets==7.7.1 found, needs ipywidgets>=8\n",
      "Run `pip install -U ipywidgets`, then restart the notebook server for rich notebook output.\n",
      "2024-09-14 23:59:20,607\tINFO util.py:124 -- Outdated packages:\n",
      "  ipywidgets==7.7.1 found, needs ipywidgets>=8\n",
      "Run `pip install -U ipywidgets`, then restart the notebook server for rich notebook output.\n"
     ]
    }
   ],
   "source": [
    "from flaml import AutoML\n",
    "automl = AutoML()"
   ]
  },
  {
   "cell_type": "code",
   "execution_count": 20,
   "id": "b9801dc7",
   "metadata": {
    "execution": {
     "iopub.execute_input": "2024-09-14T23:59:23.135733Z",
     "iopub.status.busy": "2024-09-14T23:59:23.134933Z",
     "iopub.status.idle": "2024-09-14T23:59:23.141357Z",
     "shell.execute_reply": "2024-09-14T23:59:23.140044Z"
    },
    "papermill": {
     "duration": 0.028231,
     "end_time": "2024-09-14T23:59:23.144246",
     "exception": false,
     "start_time": "2024-09-14T23:59:23.116015",
     "status": "completed"
    },
    "tags": []
   },
   "outputs": [],
   "source": [
    "settings = {\n",
    "    \"time_budget\": 600,\n",
    "    \"metric\": 'accuracy', \n",
    "    \"task\": 'classification',\n",
    "    \"log_file_name\": 'experiment_v0.log',\n",
    "    \"seed\": 123456, \n",
    "}"
   ]
  },
  {
   "cell_type": "code",
   "execution_count": 21,
   "id": "4459897d",
   "metadata": {
    "execution": {
     "iopub.execute_input": "2024-09-14T23:59:23.180378Z",
     "iopub.status.busy": "2024-09-14T23:59:23.179425Z",
     "iopub.status.idle": "2024-09-15T00:10:08.010052Z",
     "shell.execute_reply": "2024-09-15T00:10:08.008668Z"
    },
    "papermill": {
     "duration": 644.869259,
     "end_time": "2024-09-15T00:10:08.030425",
     "exception": false,
     "start_time": "2024-09-14T23:59:23.161166",
     "status": "completed"
    },
    "tags": []
   },
   "outputs": [
    {
     "name": "stdout",
     "output_type": "stream",
     "text": [
      "[flaml.automl.logger: 09-14 23:59:34] {1680} INFO - task = classification\n",
      "[flaml.automl.logger: 09-14 23:59:34] {1691} INFO - Evaluation method: holdout\n",
      "[flaml.automl.logger: 09-14 23:59:35] {1789} INFO - Minimizing error metric: 1-accuracy\n",
      "[flaml.automl.logger: 09-14 23:59:35] {1901} INFO - List of ML learners in AutoML Run: ['lgbm', 'rf', 'catboost', 'xgboost', 'extra_tree', 'xgb_limitdepth', 'lrl1']\n",
      "[flaml.automl.logger: 09-14 23:59:35] {2219} INFO - iteration 0, current learner lgbm\n",
      "[flaml.automl.logger: 09-14 23:59:37] {2345} INFO - Estimated sufficient time budget=21429s. Estimated necessary time budget=526s.\n",
      "[flaml.automl.logger: 09-14 23:59:37] {2392} INFO -  at 14.5s,\testimator lgbm's best error=0.2535,\tbest estimator lgbm's best error=0.2535\n",
      "[flaml.automl.logger: 09-14 23:59:37] {2219} INFO - iteration 1, current learner lgbm\n",
      "[flaml.automl.logger: 09-14 23:59:41] {2392} INFO -  at 18.4s,\testimator lgbm's best error=0.2502,\tbest estimator lgbm's best error=0.2502\n",
      "[flaml.automl.logger: 09-14 23:59:41] {2219} INFO - iteration 2, current learner xgboost\n",
      "[flaml.automl.logger: 09-14 23:59:53] {2392} INFO -  at 30.5s,\testimator xgboost's best error=0.2704,\tbest estimator lgbm's best error=0.2502\n",
      "[flaml.automl.logger: 09-14 23:59:53] {2219} INFO - iteration 3, current learner lgbm\n",
      "[flaml.automl.logger: 09-14 23:59:58] {2392} INFO -  at 35.0s,\testimator lgbm's best error=0.2386,\tbest estimator lgbm's best error=0.2386\n",
      "[flaml.automl.logger: 09-14 23:59:58] {2219} INFO - iteration 4, current learner extra_tree\n",
      "[flaml.automl.logger: 09-14 23:59:58] {2392} INFO -  at 35.3s,\testimator extra_tree's best error=0.5485,\tbest estimator lgbm's best error=0.2386\n",
      "[flaml.automl.logger: 09-14 23:59:58] {2219} INFO - iteration 5, current learner lgbm\n",
      "[flaml.automl.logger: 09-15 00:00:05] {2392} INFO -  at 41.9s,\testimator lgbm's best error=0.1493,\tbest estimator lgbm's best error=0.1493\n",
      "[flaml.automl.logger: 09-15 00:00:05] {2219} INFO - iteration 6, current learner extra_tree\n",
      "[flaml.automl.logger: 09-15 00:00:05] {2392} INFO -  at 42.5s,\testimator extra_tree's best error=0.3238,\tbest estimator lgbm's best error=0.1493\n",
      "[flaml.automl.logger: 09-15 00:00:05] {2219} INFO - iteration 7, current learner xgboost\n",
      "[flaml.automl.logger: 09-15 00:00:17] {2392} INFO -  at 54.5s,\testimator xgboost's best error=0.2677,\tbest estimator lgbm's best error=0.1493\n",
      "[flaml.automl.logger: 09-15 00:00:17] {2219} INFO - iteration 8, current learner lgbm\n",
      "[flaml.automl.logger: 09-15 00:00:22] {2392} INFO -  at 58.8s,\testimator lgbm's best error=0.1493,\tbest estimator lgbm's best error=0.1493\n",
      "[flaml.automl.logger: 09-15 00:00:22] {2219} INFO - iteration 9, current learner extra_tree\n",
      "[flaml.automl.logger: 09-15 00:00:22] {2392} INFO -  at 59.5s,\testimator extra_tree's best error=0.3238,\tbest estimator lgbm's best error=0.1493\n",
      "[flaml.automl.logger: 09-15 00:00:22] {2219} INFO - iteration 10, current learner extra_tree\n",
      "[flaml.automl.logger: 09-15 00:00:23] {2392} INFO -  at 59.9s,\testimator extra_tree's best error=0.3238,\tbest estimator lgbm's best error=0.1493\n",
      "[flaml.automl.logger: 09-15 00:00:23] {2219} INFO - iteration 11, current learner extra_tree\n",
      "[flaml.automl.logger: 09-15 00:00:24] {2392} INFO -  at 61.3s,\testimator extra_tree's best error=0.1938,\tbest estimator lgbm's best error=0.1493\n",
      "[flaml.automl.logger: 09-15 00:00:24] {2219} INFO - iteration 12, current learner extra_tree\n",
      "[flaml.automl.logger: 09-15 00:00:25] {2392} INFO -  at 62.8s,\testimator extra_tree's best error=0.1938,\tbest estimator lgbm's best error=0.1493\n",
      "[flaml.automl.logger: 09-15 00:00:25] {2219} INFO - iteration 13, current learner extra_tree\n",
      "[flaml.automl.logger: 09-15 00:00:26] {2392} INFO -  at 63.7s,\testimator extra_tree's best error=0.1739,\tbest estimator lgbm's best error=0.1493\n",
      "[flaml.automl.logger: 09-15 00:00:26] {2219} INFO - iteration 14, current learner rf\n",
      "[flaml.automl.logger: 09-15 00:00:27] {2392} INFO -  at 64.2s,\testimator rf's best error=0.5951,\tbest estimator lgbm's best error=0.1493\n",
      "[flaml.automl.logger: 09-15 00:00:27] {2219} INFO - iteration 15, current learner rf\n",
      "[flaml.automl.logger: 09-15 00:00:28] {2392} INFO -  at 65.0s,\testimator rf's best error=0.3060,\tbest estimator lgbm's best error=0.1493\n",
      "[flaml.automl.logger: 09-15 00:00:28] {2219} INFO - iteration 16, current learner rf\n",
      "[flaml.automl.logger: 09-15 00:00:29] {2392} INFO -  at 65.9s,\testimator rf's best error=0.3060,\tbest estimator lgbm's best error=0.1493\n",
      "[flaml.automl.logger: 09-15 00:00:29] {2219} INFO - iteration 17, current learner extra_tree\n",
      "[flaml.automl.logger: 09-15 00:00:30] {2392} INFO -  at 67.2s,\testimator extra_tree's best error=0.1549,\tbest estimator lgbm's best error=0.1493\n",
      "[flaml.automl.logger: 09-15 00:00:30] {2219} INFO - iteration 18, current learner lgbm\n",
      "[flaml.automl.logger: 09-15 00:00:34] {2392} INFO -  at 71.3s,\testimator lgbm's best error=0.1493,\tbest estimator lgbm's best error=0.1493\n",
      "[flaml.automl.logger: 09-15 00:00:34] {2219} INFO - iteration 19, current learner extra_tree\n",
      "[flaml.automl.logger: 09-15 00:00:36] {2392} INFO -  at 73.1s,\testimator extra_tree's best error=0.1398,\tbest estimator extra_tree's best error=0.1398\n",
      "[flaml.automl.logger: 09-15 00:00:36] {2219} INFO - iteration 20, current learner rf\n",
      "[flaml.automl.logger: 09-15 00:00:36] {2392} INFO -  at 73.6s,\testimator rf's best error=0.3060,\tbest estimator extra_tree's best error=0.1398\n",
      "[flaml.automl.logger: 09-15 00:00:36] {2219} INFO - iteration 21, current learner extra_tree\n",
      "[flaml.automl.logger: 09-15 00:00:37] {2392} INFO -  at 74.4s,\testimator extra_tree's best error=0.1398,\tbest estimator extra_tree's best error=0.1398\n",
      "[flaml.automl.logger: 09-15 00:00:37] {2219} INFO - iteration 22, current learner rf\n",
      "[flaml.automl.logger: 09-15 00:00:40] {2392} INFO -  at 77.0s,\testimator rf's best error=0.1692,\tbest estimator extra_tree's best error=0.1398\n",
      "[flaml.automl.logger: 09-15 00:00:40] {2219} INFO - iteration 23, current learner rf\n",
      "[flaml.automl.logger: 09-15 00:00:42] {2392} INFO -  at 79.6s,\testimator rf's best error=0.1692,\tbest estimator extra_tree's best error=0.1398\n",
      "[flaml.automl.logger: 09-15 00:00:42] {2219} INFO - iteration 24, current learner extra_tree\n",
      "[flaml.automl.logger: 09-15 00:00:46] {2392} INFO -  at 83.4s,\testimator extra_tree's best error=0.0953,\tbest estimator extra_tree's best error=0.0953\n",
      "[flaml.automl.logger: 09-15 00:00:46] {2219} INFO - iteration 25, current learner extra_tree\n",
      "[flaml.automl.logger: 09-15 00:00:57] {2392} INFO -  at 94.5s,\testimator extra_tree's best error=0.0754,\tbest estimator extra_tree's best error=0.0754\n",
      "[flaml.automl.logger: 09-15 00:00:57] {2219} INFO - iteration 26, current learner rf\n",
      "[flaml.automl.logger: 09-15 00:00:58] {2392} INFO -  at 95.7s,\testimator rf's best error=0.1454,\tbest estimator extra_tree's best error=0.0754\n",
      "[flaml.automl.logger: 09-15 00:00:58] {2219} INFO - iteration 27, current learner extra_tree\n",
      "[flaml.automl.logger: 09-15 00:01:02] {2392} INFO -  at 99.5s,\testimator extra_tree's best error=0.0754,\tbest estimator extra_tree's best error=0.0754\n",
      "[flaml.automl.logger: 09-15 00:01:02] {2219} INFO - iteration 28, current learner extra_tree\n",
      "[flaml.automl.logger: 09-15 00:01:19] {2392} INFO -  at 116.7s,\testimator extra_tree's best error=0.0703,\tbest estimator extra_tree's best error=0.0703\n",
      "[flaml.automl.logger: 09-15 00:01:19] {2219} INFO - iteration 29, current learner extra_tree\n",
      "[flaml.automl.logger: 09-15 00:01:30] {2392} INFO -  at 127.4s,\testimator extra_tree's best error=0.0703,\tbest estimator extra_tree's best error=0.0703\n",
      "[flaml.automl.logger: 09-15 00:01:30] {2219} INFO - iteration 30, current learner lgbm\n",
      "[flaml.automl.logger: 09-15 00:01:43] {2392} INFO -  at 140.8s,\testimator lgbm's best error=0.0852,\tbest estimator extra_tree's best error=0.0703\n",
      "[flaml.automl.logger: 09-15 00:01:43] {2219} INFO - iteration 31, current learner lgbm\n",
      "[flaml.automl.logger: 09-15 00:02:24] {2392} INFO -  at 180.8s,\testimator lgbm's best error=0.0689,\tbest estimator lgbm's best error=0.0689\n",
      "[flaml.automl.logger: 09-15 00:02:24] {2219} INFO - iteration 32, current learner lgbm\n",
      "[flaml.automl.logger: 09-15 00:02:40] {2392} INFO -  at 197.5s,\testimator lgbm's best error=0.0570,\tbest estimator lgbm's best error=0.0570\n",
      "[flaml.automl.logger: 09-15 00:02:40] {2219} INFO - iteration 33, current learner rf\n",
      "[flaml.automl.logger: 09-15 00:02:43] {2392} INFO -  at 200.0s,\testimator rf's best error=0.1422,\tbest estimator lgbm's best error=0.0570\n",
      "[flaml.automl.logger: 09-15 00:02:43] {2219} INFO - iteration 34, current learner lgbm\n",
      "[flaml.automl.logger: 09-15 00:03:18] {2392} INFO -  at 235.4s,\testimator lgbm's best error=0.0368,\tbest estimator lgbm's best error=0.0368\n",
      "[flaml.automl.logger: 09-15 00:03:18] {2219} INFO - iteration 35, current learner catboost\n",
      "[flaml.automl.logger: 09-15 00:09:21] {2392} INFO -  at 598.6s,\testimator catboost's best error=0.0466,\tbest estimator lgbm's best error=0.0368\n",
      "[flaml.automl.logger: 09-15 00:09:21] {2219} INFO - iteration 36, current learner xgb_limitdepth\n",
      "[flaml.automl.logger: 09-15 00:09:29] {2392} INFO -  at 606.5s,\testimator xgb_limitdepth's best error=0.1600,\tbest estimator lgbm's best error=0.0368\n",
      "[flaml.automl.logger: 09-15 00:10:07] {2628} INFO - retrain lgbm for 38.3s\n",
      "[flaml.automl.logger: 09-15 00:10:07] {2631} INFO - retrained model: LGBMClassifier(colsample_bytree=0.9633756976393719,\n",
      "               learning_rate=0.6141197326882022, max_bin=63,\n",
      "               min_child_samples=9, n_estimators=1, n_jobs=-1, num_leaves=8,\n",
      "               reg_alpha=0.004150026781900772, reg_lambda=3.6508919022720656,\n",
      "               verbose=-1)\n",
      "[flaml.automl.logger: 09-15 00:10:07] {1931} INFO - fit succeeded\n",
      "[flaml.automl.logger: 09-15 00:10:07] {1932} INFO - Time taken to find the best model: 235.40831232070923\n"
     ]
    }
   ],
   "source": [
    "automl.fit(X_train=X_train, y_train=y_train, **settings)"
   ]
  },
  {
   "cell_type": "code",
   "execution_count": 22,
   "id": "6512ac28",
   "metadata": {
    "execution": {
     "iopub.execute_input": "2024-09-15T00:10:08.082528Z",
     "iopub.status.busy": "2024-09-15T00:10:08.082066Z",
     "iopub.status.idle": "2024-09-15T00:10:08.089862Z",
     "shell.execute_reply": "2024-09-15T00:10:08.088556Z"
    },
    "papermill": {
     "duration": 0.037808,
     "end_time": "2024-09-15T00:10:08.092915",
     "exception": false,
     "start_time": "2024-09-15T00:10:08.055107",
     "status": "completed"
    },
    "tags": []
   },
   "outputs": [
    {
     "name": "stdout",
     "output_type": "stream",
     "text": [
      "Best ML leaner: lgbm\n",
      "Best hyperparmeter config: {'n_estimators': 69, 'num_leaves': 8, 'min_child_samples': 9, 'learning_rate': 0.6141197326882022, 'log_max_bin': 6, 'colsample_bytree': 0.9633756976393719, 'reg_alpha': 0.004150026781900772, 'reg_lambda': 3.6508919022720656}\n",
      "Best accuracy on validation data: 0.9632\n",
      "Training duration of best run: 38.28 s\n"
     ]
    }
   ],
   "source": [
    "print('Best ML leaner:', automl.best_estimator)\n",
    "print('Best hyperparmeter config:', automl.best_config)\n",
    "print('Best accuracy on validation data: {0:.4g}'.format(1-automl.best_loss))\n",
    "print('Training duration of best run: {0:.4g} s'.format(automl.best_config_train_time))"
   ]
  },
  {
   "cell_type": "code",
   "execution_count": 23,
   "id": "1b5562a1",
   "metadata": {
    "execution": {
     "iopub.execute_input": "2024-09-15T00:10:08.143644Z",
     "iopub.status.busy": "2024-09-15T00:10:08.142786Z",
     "iopub.status.idle": "2024-09-15T00:10:08.154958Z",
     "shell.execute_reply": "2024-09-15T00:10:08.153639Z"
    },
    "papermill": {
     "duration": 0.040394,
     "end_time": "2024-09-15T00:10:08.157598",
     "exception": false,
     "start_time": "2024-09-15T00:10:08.117204",
     "status": "completed"
    },
    "tags": []
   },
   "outputs": [
    {
     "data": {
      "text/html": [
       "<style>#sk-container-id-1 {color: black;background-color: white;}#sk-container-id-1 pre{padding: 0;}#sk-container-id-1 div.sk-toggleable {background-color: white;}#sk-container-id-1 label.sk-toggleable__label {cursor: pointer;display: block;width: 100%;margin-bottom: 0;padding: 0.3em;box-sizing: border-box;text-align: center;}#sk-container-id-1 label.sk-toggleable__label-arrow:before {content: \"▸\";float: left;margin-right: 0.25em;color: #696969;}#sk-container-id-1 label.sk-toggleable__label-arrow:hover:before {color: black;}#sk-container-id-1 div.sk-estimator:hover label.sk-toggleable__label-arrow:before {color: black;}#sk-container-id-1 div.sk-toggleable__content {max-height: 0;max-width: 0;overflow: hidden;text-align: left;background-color: #f0f8ff;}#sk-container-id-1 div.sk-toggleable__content pre {margin: 0.2em;color: black;border-radius: 0.25em;background-color: #f0f8ff;}#sk-container-id-1 input.sk-toggleable__control:checked~div.sk-toggleable__content {max-height: 200px;max-width: 100%;overflow: auto;}#sk-container-id-1 input.sk-toggleable__control:checked~label.sk-toggleable__label-arrow:before {content: \"▾\";}#sk-container-id-1 div.sk-estimator input.sk-toggleable__control:checked~label.sk-toggleable__label {background-color: #d4ebff;}#sk-container-id-1 div.sk-label input.sk-toggleable__control:checked~label.sk-toggleable__label {background-color: #d4ebff;}#sk-container-id-1 input.sk-hidden--visually {border: 0;clip: rect(1px 1px 1px 1px);clip: rect(1px, 1px, 1px, 1px);height: 1px;margin: -1px;overflow: hidden;padding: 0;position: absolute;width: 1px;}#sk-container-id-1 div.sk-estimator {font-family: monospace;background-color: #f0f8ff;border: 1px dotted black;border-radius: 0.25em;box-sizing: border-box;margin-bottom: 0.5em;}#sk-container-id-1 div.sk-estimator:hover {background-color: #d4ebff;}#sk-container-id-1 div.sk-parallel-item::after {content: \"\";width: 100%;border-bottom: 1px solid gray;flex-grow: 1;}#sk-container-id-1 div.sk-label:hover label.sk-toggleable__label {background-color: #d4ebff;}#sk-container-id-1 div.sk-serial::before {content: \"\";position: absolute;border-left: 1px solid gray;box-sizing: border-box;top: 0;bottom: 0;left: 50%;z-index: 0;}#sk-container-id-1 div.sk-serial {display: flex;flex-direction: column;align-items: center;background-color: white;padding-right: 0.2em;padding-left: 0.2em;position: relative;}#sk-container-id-1 div.sk-item {position: relative;z-index: 1;}#sk-container-id-1 div.sk-parallel {display: flex;align-items: stretch;justify-content: center;background-color: white;position: relative;}#sk-container-id-1 div.sk-item::before, #sk-container-id-1 div.sk-parallel-item::before {content: \"\";position: absolute;border-left: 1px solid gray;box-sizing: border-box;top: 0;bottom: 0;left: 50%;z-index: -1;}#sk-container-id-1 div.sk-parallel-item {display: flex;flex-direction: column;z-index: 1;position: relative;background-color: white;}#sk-container-id-1 div.sk-parallel-item:first-child::after {align-self: flex-end;width: 50%;}#sk-container-id-1 div.sk-parallel-item:last-child::after {align-self: flex-start;width: 50%;}#sk-container-id-1 div.sk-parallel-item:only-child::after {width: 0;}#sk-container-id-1 div.sk-dashed-wrapped {border: 1px dashed gray;margin: 0 0.4em 0.5em 0.4em;box-sizing: border-box;padding-bottom: 0.4em;background-color: white;}#sk-container-id-1 div.sk-label label {font-family: monospace;font-weight: bold;display: inline-block;line-height: 1.2em;}#sk-container-id-1 div.sk-label-container {text-align: center;}#sk-container-id-1 div.sk-container {/* jupyter's `normalize.less` sets `[hidden] { display: none; }` but bootstrap.min.css set `[hidden] { display: none !important; }` so we also need the `!important` here to be able to override the default hidden behavior on the sphinx rendered scikit-learn.org. See: https://github.com/scikit-learn/scikit-learn/issues/21755 */display: inline-block !important;position: relative;}#sk-container-id-1 div.sk-text-repr-fallback {display: none;}</style><div id=\"sk-container-id-1\" class=\"sk-top-container\"><div class=\"sk-text-repr-fallback\"><pre>LGBMClassifier(colsample_bytree=0.9633756976393719,\n",
       "               learning_rate=0.6141197326882022, max_bin=63,\n",
       "               min_child_samples=9, n_estimators=1, n_jobs=-1, num_leaves=8,\n",
       "               reg_alpha=0.004150026781900772, reg_lambda=3.6508919022720656,\n",
       "               verbose=-1)</pre><b>In a Jupyter environment, please rerun this cell to show the HTML representation or trust the notebook. <br />On GitHub, the HTML representation is unable to render, please try loading this page with nbviewer.org.</b></div><div class=\"sk-container\" hidden><div class=\"sk-item\"><div class=\"sk-estimator sk-toggleable\"><input class=\"sk-toggleable__control sk-hidden--visually\" id=\"sk-estimator-id-1\" type=\"checkbox\" checked><label for=\"sk-estimator-id-1\" class=\"sk-toggleable__label sk-toggleable__label-arrow\">LGBMClassifier</label><div class=\"sk-toggleable__content\"><pre>LGBMClassifier(colsample_bytree=0.9633756976393719,\n",
       "               learning_rate=0.6141197326882022, max_bin=63,\n",
       "               min_child_samples=9, n_estimators=1, n_jobs=-1, num_leaves=8,\n",
       "               reg_alpha=0.004150026781900772, reg_lambda=3.6508919022720656,\n",
       "               verbose=-1)</pre></div></div></div></div></div>"
      ],
      "text/plain": [
       "LGBMClassifier(colsample_bytree=0.9633756976393719,\n",
       "               learning_rate=0.6141197326882022, max_bin=63,\n",
       "               min_child_samples=9, n_estimators=1, n_jobs=-1, num_leaves=8,\n",
       "               reg_alpha=0.004150026781900772, reg_lambda=3.6508919022720656,\n",
       "               verbose=-1)"
      ]
     },
     "execution_count": 23,
     "metadata": {},
     "output_type": "execute_result"
    }
   ],
   "source": [
    "automl.model.estimator"
   ]
  },
  {
   "cell_type": "code",
   "execution_count": 24,
   "id": "258a963c",
   "metadata": {
    "execution": {
     "iopub.execute_input": "2024-09-15T00:10:08.209219Z",
     "iopub.status.busy": "2024-09-15T00:10:08.208695Z",
     "iopub.status.idle": "2024-09-15T00:10:08.268536Z",
     "shell.execute_reply": "2024-09-15T00:10:08.266975Z"
    },
    "papermill": {
     "duration": 0.089066,
     "end_time": "2024-09-15T00:10:08.271506",
     "exception": false,
     "start_time": "2024-09-15T00:10:08.182440",
     "status": "completed"
    },
    "tags": []
   },
   "outputs": [],
   "source": [
    "import pickle\n",
    "with open('automl.pkl', 'wb') as f:\n",
    "    pickle.dump(automl, f, pickle.HIGHEST_PROTOCOL)\n",
    "with open('automl.pkl', 'rb') as f:\n",
    "    automl = pickle.load(f)"
   ]
  },
  {
   "cell_type": "markdown",
   "id": "f51462ec",
   "metadata": {
    "papermill": {
     "duration": 0.024808,
     "end_time": "2024-09-15T00:10:08.321059",
     "exception": false,
     "start_time": "2024-09-15T00:10:08.296251",
     "status": "completed"
    },
    "tags": []
   },
   "source": [
    "-----\n",
    "\n",
    "# Evaluation"
   ]
  },
  {
   "cell_type": "code",
   "execution_count": 25,
   "id": "0b4eda3d",
   "metadata": {
    "execution": {
     "iopub.execute_input": "2024-09-15T00:10:08.373378Z",
     "iopub.status.busy": "2024-09-15T00:10:08.372290Z",
     "iopub.status.idle": "2024-09-15T00:10:08.382067Z",
     "shell.execute_reply": "2024-09-15T00:10:08.380372Z"
    },
    "papermill": {
     "duration": 0.038743,
     "end_time": "2024-09-15T00:10:08.384687",
     "exception": false,
     "start_time": "2024-09-15T00:10:08.345944",
     "status": "completed"
    },
    "tags": []
   },
   "outputs": [],
   "source": [
    "from sklearn.metrics import accuracy_score, recall_score, precision_score, f1_score\n",
    "\n",
    "def full_evaluation(X_true, y_true, estimator):\n",
    "    df_model_evaluation = {\n",
    "        'accuracy_score': [],\n",
    "        'recall_score': [],\n",
    "        'f1_score': [],\n",
    "        'precision_score': [],\n",
    "    }\n",
    "\n",
    "    y_preds = estimator.predict(X_valid)\n",
    "    df_model_evaluation['accuracy_score'].append(accuracy_score(y_valid, y_preds))  \n",
    "    df_model_evaluation['recall_score'].append(recall_score(y_valid, y_preds, average='micro'))\n",
    "    df_model_evaluation['f1_score'].append(f1_score(y_valid, y_preds, average='micro'))\n",
    "    df_model_evaluation['precision_score'].append(precision_score(y_valid, y_preds, average='micro'))\n",
    "\n",
    "        \n",
    "    return pd.DataFrame(df_model_evaluation)"
   ]
  },
  {
   "cell_type": "code",
   "execution_count": 26,
   "id": "5a50f968",
   "metadata": {
    "execution": {
     "iopub.execute_input": "2024-09-15T00:10:08.436817Z",
     "iopub.status.busy": "2024-09-15T00:10:08.436371Z",
     "iopub.status.idle": "2024-09-15T00:10:09.033319Z",
     "shell.execute_reply": "2024-09-15T00:10:09.031788Z"
    },
    "papermill": {
     "duration": 0.625999,
     "end_time": "2024-09-15T00:10:09.036090",
     "exception": false,
     "start_time": "2024-09-15T00:10:08.410091",
     "status": "completed"
    },
    "tags": []
   },
   "outputs": [
    {
     "data": {
      "text/html": [
       "<div>\n",
       "<style scoped>\n",
       "    .dataframe tbody tr th:only-of-type {\n",
       "        vertical-align: middle;\n",
       "    }\n",
       "\n",
       "    .dataframe tbody tr th {\n",
       "        vertical-align: top;\n",
       "    }\n",
       "\n",
       "    .dataframe thead th {\n",
       "        text-align: right;\n",
       "    }\n",
       "</style>\n",
       "<table border=\"1\" class=\"dataframe\">\n",
       "  <thead>\n",
       "    <tr style=\"text-align: right;\">\n",
       "      <th></th>\n",
       "      <th>accuracy_score</th>\n",
       "      <th>recall_score</th>\n",
       "      <th>f1_score</th>\n",
       "      <th>precision_score</th>\n",
       "    </tr>\n",
       "  </thead>\n",
       "  <tbody>\n",
       "    <tr>\n",
       "      <th>0</th>\n",
       "      <td>0.964643</td>\n",
       "      <td>0.964643</td>\n",
       "      <td>0.964643</td>\n",
       "      <td>0.964643</td>\n",
       "    </tr>\n",
       "  </tbody>\n",
       "</table>\n",
       "</div>"
      ],
      "text/plain": [
       "   accuracy_score  recall_score  f1_score  precision_score\n",
       "0        0.964643      0.964643  0.964643         0.964643"
      ]
     },
     "execution_count": 26,
     "metadata": {},
     "output_type": "execute_result"
    }
   ],
   "source": [
    "full_evaluation(X_train, y_train, automl)"
   ]
  },
  {
   "cell_type": "code",
   "execution_count": 27,
   "id": "9bff98eb",
   "metadata": {
    "execution": {
     "iopub.execute_input": "2024-09-15T00:10:09.088954Z",
     "iopub.status.busy": "2024-09-15T00:10:09.088095Z",
     "iopub.status.idle": "2024-09-15T00:10:09.093714Z",
     "shell.execute_reply": "2024-09-15T00:10:09.092583Z"
    },
    "papermill": {
     "duration": 0.035129,
     "end_time": "2024-09-15T00:10:09.096542",
     "exception": false,
     "start_time": "2024-09-15T00:10:09.061413",
     "status": "completed"
    },
    "tags": []
   },
   "outputs": [],
   "source": [
    "from sklearn.metrics import ConfusionMatrixDisplay, accuracy_score, balanced_accuracy_score, precision_score, confusion_matrix, classification_report"
   ]
  },
  {
   "cell_type": "code",
   "execution_count": 28,
   "id": "f52d0244",
   "metadata": {
    "execution": {
     "iopub.execute_input": "2024-09-15T00:10:09.149169Z",
     "iopub.status.busy": "2024-09-15T00:10:09.148319Z",
     "iopub.status.idle": "2024-09-15T00:10:12.148509Z",
     "shell.execute_reply": "2024-09-15T00:10:12.147396Z"
    },
    "papermill": {
     "duration": 3.029919,
     "end_time": "2024-09-15T00:10:12.151457",
     "exception": false,
     "start_time": "2024-09-15T00:10:09.121538",
     "status": "completed"
    },
    "tags": []
   },
   "outputs": [
    {
     "data": {
      "image/png": "[encoded data removed]",
      "text/plain": [
       "<Figure size 640x480 with 2 Axes>"
      ]
     },
     "metadata": {},
     "output_type": "display_data"
    }
   ],
   "source": [
    "conf_matrix = confusion_matrix(y_train, automl.predict(X_train))\n",
    "cm_display = ConfusionMatrixDisplay(confusion_matrix=conf_matrix)\n",
    "cm_display.plot()\n",
    "plt.show()"
   ]
  },
  {
   "cell_type": "code",
   "execution_count": 29,
   "id": "96235fe5",
   "metadata": {
    "execution": {
     "iopub.execute_input": "2024-09-15T00:10:12.204912Z",
     "iopub.status.busy": "2024-09-15T00:10:12.204457Z",
     "iopub.status.idle": "2024-09-15T00:10:12.802201Z",
     "shell.execute_reply": "2024-09-15T00:10:12.800922Z"
    },
    "papermill": {
     "duration": 0.627551,
     "end_time": "2024-09-15T00:10:12.804999",
     "exception": false,
     "start_time": "2024-09-15T00:10:12.177448",
     "status": "completed"
    },
    "tags": []
   },
   "outputs": [
    {
     "data": {
      "text/html": [
       "<div>\n",
       "<style scoped>\n",
       "    .dataframe tbody tr th:only-of-type {\n",
       "        vertical-align: middle;\n",
       "    }\n",
       "\n",
       "    .dataframe tbody tr th {\n",
       "        vertical-align: top;\n",
       "    }\n",
       "\n",
       "    .dataframe thead th {\n",
       "        text-align: right;\n",
       "    }\n",
       "</style>\n",
       "<table border=\"1\" class=\"dataframe\">\n",
       "  <thead>\n",
       "    <tr style=\"text-align: right;\">\n",
       "      <th></th>\n",
       "      <th>accuracy_score</th>\n",
       "      <th>recall_score</th>\n",
       "      <th>f1_score</th>\n",
       "      <th>precision_score</th>\n",
       "    </tr>\n",
       "  </thead>\n",
       "  <tbody>\n",
       "    <tr>\n",
       "      <th>0</th>\n",
       "      <td>0.964643</td>\n",
       "      <td>0.964643</td>\n",
       "      <td>0.964643</td>\n",
       "      <td>0.964643</td>\n",
       "    </tr>\n",
       "  </tbody>\n",
       "</table>\n",
       "</div>"
      ],
      "text/plain": [
       "   accuracy_score  recall_score  f1_score  precision_score\n",
       "0        0.964643      0.964643  0.964643         0.964643"
      ]
     },
     "execution_count": 29,
     "metadata": {},
     "output_type": "execute_result"
    }
   ],
   "source": [
    "full_evaluation(X_valid, y_valid, automl)"
   ]
  },
  {
   "cell_type": "code",
   "execution_count": 30,
   "id": "76e3ddcc",
   "metadata": {
    "execution": {
     "iopub.execute_input": "2024-09-15T00:10:12.917846Z",
     "iopub.status.busy": "2024-09-15T00:10:12.917394Z",
     "iopub.status.idle": "2024-09-15T00:10:14.063296Z",
     "shell.execute_reply": "2024-09-15T00:10:14.061917Z"
    },
    "papermill": {
     "duration": 1.175749,
     "end_time": "2024-09-15T00:10:14.066221",
     "exception": false,
     "start_time": "2024-09-15T00:10:12.890472",
     "status": "completed"
    },
    "tags": []
   },
   "outputs": [
    {
     "data": {
      "image/png": "[encoded data removed]",
      "text/plain": [
       "<Figure size 640x480 with 2 Axes>"
      ]
     },
     "metadata": {},
     "output_type": "display_data"
    }
   ],
   "source": [
    "conf_matrix = confusion_matrix(y_valid, automl.predict(X_valid))\n",
    "cm_display = ConfusionMatrixDisplay(confusion_matrix=conf_matrix)\n",
    "cm_display.plot()\n",
    "plt.show()"
   ]
  },
  {
   "cell_type": "code",
   "execution_count": 31,
   "id": "c3c68b74",
   "metadata": {
    "execution": {
     "iopub.execute_input": "2024-09-15T00:10:14.122464Z",
     "iopub.status.busy": "2024-09-15T00:10:14.121943Z",
     "iopub.status.idle": "2024-09-15T00:10:14.139867Z",
     "shell.execute_reply": "2024-09-15T00:10:14.138468Z"
    },
    "papermill": {
     "duration": 0.050582,
     "end_time": "2024-09-15T00:10:14.144139",
     "exception": false,
     "start_time": "2024-09-15T00:10:14.093557",
     "status": "completed"
    },
    "tags": []
   },
   "outputs": [
    {
     "name": "stdout",
     "output_type": "stream",
     "text": [
      "{'Best Hyper-parameters': {'colsample_bytree': 1.0,\n",
      "                           'learning_rate': 0.09999999999999995,\n",
      "                           'log_max_bin': 8,\n",
      "                           'min_child_samples': 20,\n",
      "                           'n_estimators': 4,\n",
      "                           'num_leaves': 4,\n",
      "                           'reg_alpha': 0.0009765625,\n",
      "                           'reg_lambda': 1.0},\n",
      " 'Best Learner': 'lgbm',\n",
      " 'Current Hyper-parameters': {'colsample_bytree': 1.0,\n",
      "                              'learning_rate': 0.09999999999999995,\n",
      "                              'log_max_bin': 8,\n",
      "                              'min_child_samples': 20,\n",
      "                              'n_estimators': 4,\n",
      "                              'num_leaves': 4,\n",
      "                              'reg_alpha': 0.0009765625,\n",
      "                              'reg_lambda': 1.0},\n",
      " 'Current Learner': 'lgbm',\n",
      " 'Current Sample': 30241}\n",
      "{'Best Hyper-parameters': {'colsample_bytree': 0.8964274712944774,\n",
      "                           'learning_rate': 0.0972024813506547,\n",
      "                           'log_max_bin': 8,\n",
      "                           'min_child_samples': 44,\n",
      "                           'n_estimators': 4,\n",
      "                           'num_leaves': 4,\n",
      "                           'reg_alpha': 0.0009765625,\n",
      "                           'reg_lambda': 0.5800059223204839},\n",
      " 'Best Learner': 'lgbm',\n",
      " 'Current Hyper-parameters': {'colsample_bytree': 0.8964274712944774,\n",
      "                              'learning_rate': 0.0972024813506547,\n",
      "                              'log_max_bin': 8,\n",
      "                              'min_child_samples': 44,\n",
      "                              'n_estimators': 4,\n",
      "                              'num_leaves': 4,\n",
      "                              'reg_alpha': 0.0009765625,\n",
      "                              'reg_lambda': 0.5800059223204839},\n",
      " 'Current Learner': 'lgbm',\n",
      " 'Current Sample': 30241}\n",
      "{'Best Hyper-parameters': {'colsample_bytree': 1.0,\n",
      "                           'learning_rate': 0.09999999999999995,\n",
      "                           'log_max_bin': 8,\n",
      "                           'min_child_samples': 20,\n",
      "                           'n_estimators': 5,\n",
      "                           'num_leaves': 4,\n",
      "                           'reg_alpha': 0.010750315484297463,\n",
      "                           'reg_lambda': 1.0},\n",
      " 'Best Learner': 'lgbm',\n",
      " 'Current Hyper-parameters': {'colsample_bytree': 1.0,\n",
      "                              'learning_rate': 0.09999999999999995,\n",
      "                              'log_max_bin': 8,\n",
      "                              'min_child_samples': 20,\n",
      "                              'n_estimators': 5,\n",
      "                              'num_leaves': 4,\n",
      "                              'reg_alpha': 0.010750315484297463,\n",
      "                              'reg_lambda': 1.0},\n",
      " 'Current Learner': 'lgbm',\n",
      " 'Current Sample': 30241}\n",
      "{'Best Hyper-parameters': {'colsample_bytree': 1.0,\n",
      "                           'learning_rate': 0.47293375727619663,\n",
      "                           'log_max_bin': 7,\n",
      "                           'min_child_samples': 14,\n",
      "                           'n_estimators': 9,\n",
      "                           'num_leaves': 4,\n",
      "                           'reg_alpha': 0.010045293387916123,\n",
      "                           'reg_lambda': 0.8061287573618392},\n",
      " 'Best Learner': 'lgbm',\n",
      " 'Current Hyper-parameters': {'colsample_bytree': 1.0,\n",
      "                              'learning_rate': 0.47293375727619663,\n",
      "                              'log_max_bin': 7,\n",
      "                              'min_child_samples': 14,\n",
      "                              'n_estimators': 9,\n",
      "                              'num_leaves': 4,\n",
      "                              'reg_alpha': 0.010045293387916123,\n",
      "                              'reg_lambda': 0.8061287573618392},\n",
      " 'Current Learner': 'lgbm',\n",
      " 'Current Sample': 30241}\n",
      "{'Best Hyper-parameters': {'criterion': 'entropy',\n",
      "                           'max_features': 0.05091635456711021,\n",
      "                           'max_leaves': 142,\n",
      "                           'n_estimators': 7},\n",
      " 'Best Learner': 'extra',\n",
      " 'Current Hyper-parameters': {'criterion': 'entropy',\n",
      "                              'max_features': 0.05091635456711021,\n",
      "                              'max_leaves': 142,\n",
      "                              'n_estimators': 7},\n",
      " 'Current Learner': 'extra',\n",
      " 'Current Sample': 30241}\n",
      "{'Best Hyper-parameters': {'criterion': 'gini',\n",
      "                           'max_features': 0.060054493443842255,\n",
      "                           'max_leaves': 239,\n",
      "                           'n_estimators': 15},\n",
      " 'Best Learner': 'extra',\n",
      " 'Current Hyper-parameters': {'criterion': 'gini',\n",
      "                              'max_features': 0.060054493443842255,\n",
      "                              'max_leaves': 239,\n",
      "                              'n_estimators': 15},\n",
      " 'Current Learner': 'extra',\n",
      " 'Current Sample': 30241}\n",
      "{'Best Hyper-parameters': {'criterion': 'entropy',\n",
      "                           'max_features': 0.06597730463722393,\n",
      "                           'max_leaves': 384,\n",
      "                           'n_estimators': 46},\n",
      " 'Best Learner': 'extra',\n",
      " 'Current Hyper-parameters': {'criterion': 'entropy',\n",
      "                              'max_features': 0.06597730463722393,\n",
      "                              'max_leaves': 384,\n",
      "                              'n_estimators': 46},\n",
      " 'Current Learner': 'extra',\n",
      " 'Current Sample': 30241}\n",
      "{'Best Hyper-parameters': {'criterion': 'gini',\n",
      "                           'max_features': 0.04272882831468379,\n",
      "                           'max_leaves': 477,\n",
      "                           'n_estimators': 113},\n",
      " 'Best Learner': 'extra',\n",
      " 'Current Hyper-parameters': {'criterion': 'gini',\n",
      "                              'max_features': 0.04272882831468379,\n",
      "                              'max_leaves': 477,\n",
      "                              'n_estimators': 113},\n",
      " 'Current Learner': 'extra',\n",
      " 'Current Sample': 30241}\n",
      "{'Best Hyper-parameters': {'colsample_bytree': 0.942062881325666,\n",
      "                           'learning_rate': 0.15404137438100038,\n",
      "                           'log_max_bin': 6,\n",
      "                           'min_child_samples': 20,\n",
      "                           'n_estimators': 105,\n",
      "                           'num_leaves': 4,\n",
      "                           'reg_alpha': 0.008845812038685804,\n",
      "                           'reg_lambda': 20.91978024223739},\n",
      " 'Best Learner': 'lgbm',\n",
      " 'Current Hyper-parameters': {'colsample_bytree': 0.942062881325666,\n",
      "                              'learning_rate': 0.15404137438100038,\n",
      "                              'log_max_bin': 6,\n",
      "                              'min_child_samples': 20,\n",
      "                              'n_estimators': 105,\n",
      "                              'num_leaves': 4,\n",
      "                              'reg_alpha': 0.008845812038685804,\n",
      "                              'reg_lambda': 20.91978024223739},\n",
      " 'Current Learner': 'lgbm',\n",
      " 'Current Sample': 30241}\n",
      "{'Best Hyper-parameters': {'colsample_bytree': 0.9706554052651031,\n",
      "                           'learning_rate': 0.1906629603813811,\n",
      "                           'log_max_bin': 6,\n",
      "                           'min_child_samples': 18,\n",
      "                           'n_estimators': 26,\n",
      "                           'num_leaves': 14,\n",
      "                           'reg_alpha': 0.004404491573467887,\n",
      "                           'reg_lambda': 1.9443669623920434},\n",
      " 'Best Learner': 'lgbm',\n",
      " 'Current Hyper-parameters': {'colsample_bytree': 0.9706554052651031,\n",
      "                              'learning_rate': 0.1906629603813811,\n",
      "                              'log_max_bin': 6,\n",
      "                              'min_child_samples': 18,\n",
      "                              'n_estimators': 26,\n",
      "                              'num_leaves': 14,\n",
      "                              'reg_alpha': 0.004404491573467887,\n",
      "                              'reg_lambda': 1.9443669623920434},\n",
      " 'Current Learner': 'lgbm',\n",
      " 'Current Sample': 30241}\n",
      "{'Best Hyper-parameters': {'colsample_bytree': 0.9633756976393719,\n",
      "                           'learning_rate': 0.6141197326882022,\n",
      "                           'log_max_bin': 6,\n",
      "                           'min_child_samples': 9,\n",
      "                           'n_estimators': 69,\n",
      "                           'num_leaves': 8,\n",
      "                           'reg_alpha': 0.004150026781900772,\n",
      "                           'reg_lambda': 3.6508919022720656},\n",
      " 'Best Learner': 'lgbm',\n",
      " 'Current Hyper-parameters': {'colsample_bytree': 0.9633756976393719,\n",
      "                              'learning_rate': 0.6141197326882022,\n",
      "                              'log_max_bin': 6,\n",
      "                              'min_child_samples': 9,\n",
      "                              'n_estimators': 69,\n",
      "                              'num_leaves': 8,\n",
      "                              'reg_alpha': 0.004150026781900772,\n",
      "                              'reg_lambda': 3.6508919022720656},\n",
      " 'Current Learner': 'lgbm',\n",
      " 'Current Sample': 30241}\n"
     ]
    }
   ],
   "source": [
    "from pprint import pprint\n",
    "from flaml.automl.data import get_output_from_log\n",
    "time_history, best_valid_loss_history, valid_loss_history, config_history, metric_history = \\\n",
    "    get_output_from_log(filename=settings['log_file_name'], time_budget=240)\n",
    "for config in config_history:\n",
    "    pprint(config)"
   ]
  },
  {
   "cell_type": "code",
   "execution_count": 32,
   "id": "a86391b1",
   "metadata": {
    "execution": {
     "iopub.execute_input": "2024-09-15T00:10:14.201650Z",
     "iopub.status.busy": "2024-09-15T00:10:14.201177Z",
     "iopub.status.idle": "2024-09-15T00:10:14.515102Z",
     "shell.execute_reply": "2024-09-15T00:10:14.513796Z"
    },
    "papermill": {
     "duration": 0.345634,
     "end_time": "2024-09-15T00:10:14.517644",
     "exception": false,
     "start_time": "2024-09-15T00:10:14.172010",
     "status": "completed"
    },
    "tags": []
   },
   "outputs": [
    {
     "data": {
      "image/png": "[encoded data removed]",
      "text/plain": [
       "<Figure size 640x480 with 1 Axes>"
      ]
     },
     "metadata": {},
     "output_type": "display_data"
    }
   ],
   "source": [
    "import matplotlib.pyplot as plt\n",
    "import numpy as np\n",
    "\n",
    "plt.title('Learning Curve')\n",
    "plt.xlabel('Wall Clock Time (s)')\n",
    "plt.ylabel('Validation Accuracy')\n",
    "plt.scatter(time_history, 1 - np.array(valid_loss_history))\n",
    "plt.step(time_history, 1 - np.array(best_valid_loss_history), where='post')\n",
    "plt.show()"
   ]
  },
  {
   "cell_type": "markdown",
   "id": "a618468d",
   "metadata": {
    "papermill": {
     "duration": 0.027516,
     "end_time": "2024-09-15T00:10:14.573205",
     "exception": false,
     "start_time": "2024-09-15T00:10:14.545689",
     "status": "completed"
    },
    "tags": []
   },
   "source": [
    "-----\n",
    "\n",
    "# Submission"
   ]
  },
  {
   "cell_type": "code",
   "execution_count": 33,
   "id": "4bbb930e",
   "metadata": {
    "execution": {
     "iopub.execute_input": "2024-09-15T00:10:14.630181Z",
     "iopub.status.busy": "2024-09-15T00:10:14.629718Z",
     "iopub.status.idle": "2024-09-15T00:10:16.282085Z",
     "shell.execute_reply": "2024-09-15T00:10:16.280776Z"
    },
    "papermill": {
     "duration": 1.684545,
     "end_time": "2024-09-15T00:10:16.285183",
     "exception": false,
     "start_time": "2024-09-15T00:10:14.600638",
     "status": "completed"
    },
    "tags": []
   },
   "outputs": [],
   "source": [
    "preds_sub = automl.predict(df_test)"
   ]
  },
  {
   "cell_type": "code",
   "execution_count": 34,
   "id": "759f1f0f",
   "metadata": {
    "execution": {
     "iopub.execute_input": "2024-09-15T00:10:16.342471Z",
     "iopub.status.busy": "2024-09-15T00:10:16.342002Z",
     "iopub.status.idle": "2024-09-15T00:10:16.350170Z",
     "shell.execute_reply": "2024-09-15T00:10:16.348827Z"
    },
    "papermill": {
     "duration": 0.03969,
     "end_time": "2024-09-15T00:10:16.352821",
     "exception": false,
     "start_time": "2024-09-15T00:10:16.313131",
     "status": "completed"
    },
    "tags": []
   },
   "outputs": [
    {
     "data": {
      "text/plain": [
       "array([2, 0, 9, ..., 3, 9, 2])"
      ]
     },
     "execution_count": 34,
     "metadata": {},
     "output_type": "execute_result"
    }
   ],
   "source": [
    "preds_sub"
   ]
  },
  {
   "cell_type": "code",
   "execution_count": 35,
   "id": "31a9b866",
   "metadata": {
    "execution": {
     "iopub.execute_input": "2024-09-15T00:10:16.410852Z",
     "iopub.status.busy": "2024-09-15T00:10:16.410086Z",
     "iopub.status.idle": "2024-09-15T00:10:16.432003Z",
     "shell.execute_reply": "2024-09-15T00:10:16.430655Z"
    },
    "papermill": {
     "duration": 0.053914,
     "end_time": "2024-09-15T00:10:16.434713",
     "exception": false,
     "start_time": "2024-09-15T00:10:16.380799",
     "status": "completed"
    },
    "tags": []
   },
   "outputs": [
    {
     "data": {
      "text/html": [
       "<div>\n",
       "<style scoped>\n",
       "    .dataframe tbody tr th:only-of-type {\n",
       "        vertical-align: middle;\n",
       "    }\n",
       "\n",
       "    .dataframe tbody tr th {\n",
       "        vertical-align: top;\n",
       "    }\n",
       "\n",
       "    .dataframe thead th {\n",
       "        text-align: right;\n",
       "    }\n",
       "</style>\n",
       "<table border=\"1\" class=\"dataframe\">\n",
       "  <thead>\n",
       "    <tr style=\"text-align: right;\">\n",
       "      <th></th>\n",
       "      <th>pixel0</th>\n",
       "      <th>pixel1</th>\n",
       "      <th>pixel2</th>\n",
       "      <th>pixel3</th>\n",
       "      <th>pixel4</th>\n",
       "      <th>pixel5</th>\n",
       "      <th>pixel6</th>\n",
       "      <th>pixel7</th>\n",
       "      <th>pixel8</th>\n",
       "      <th>pixel9</th>\n",
       "      <th>...</th>\n",
       "      <th>pixel774</th>\n",
       "      <th>pixel775</th>\n",
       "      <th>pixel776</th>\n",
       "      <th>pixel777</th>\n",
       "      <th>pixel778</th>\n",
       "      <th>pixel779</th>\n",
       "      <th>pixel780</th>\n",
       "      <th>pixel781</th>\n",
       "      <th>pixel782</th>\n",
       "      <th>pixel783</th>\n",
       "    </tr>\n",
       "  </thead>\n",
       "  <tbody>\n",
       "    <tr>\n",
       "      <th>0</th>\n",
       "      <td>0</td>\n",
       "      <td>0</td>\n",
       "      <td>0</td>\n",
       "      <td>0</td>\n",
       "      <td>0</td>\n",
       "      <td>0</td>\n",
       "      <td>0</td>\n",
       "      <td>0</td>\n",
       "      <td>0</td>\n",
       "      <td>0</td>\n",
       "      <td>...</td>\n",
       "      <td>0</td>\n",
       "      <td>0</td>\n",
       "      <td>0</td>\n",
       "      <td>0</td>\n",
       "      <td>0</td>\n",
       "      <td>0</td>\n",
       "      <td>0</td>\n",
       "      <td>0</td>\n",
       "      <td>0</td>\n",
       "      <td>0</td>\n",
       "    </tr>\n",
       "    <tr>\n",
       "      <th>1</th>\n",
       "      <td>0</td>\n",
       "      <td>0</td>\n",
       "      <td>0</td>\n",
       "      <td>0</td>\n",
       "      <td>0</td>\n",
       "      <td>0</td>\n",
       "      <td>0</td>\n",
       "      <td>0</td>\n",
       "      <td>0</td>\n",
       "      <td>0</td>\n",
       "      <td>...</td>\n",
       "      <td>0</td>\n",
       "      <td>0</td>\n",
       "      <td>0</td>\n",
       "      <td>0</td>\n",
       "      <td>0</td>\n",
       "      <td>0</td>\n",
       "      <td>0</td>\n",
       "      <td>0</td>\n",
       "      <td>0</td>\n",
       "      <td>0</td>\n",
       "    </tr>\n",
       "    <tr>\n",
       "      <th>2</th>\n",
       "      <td>0</td>\n",
       "      <td>0</td>\n",
       "      <td>0</td>\n",
       "      <td>0</td>\n",
       "      <td>0</td>\n",
       "      <td>0</td>\n",
       "      <td>0</td>\n",
       "      <td>0</td>\n",
       "      <td>0</td>\n",
       "      <td>0</td>\n",
       "      <td>...</td>\n",
       "      <td>0</td>\n",
       "      <td>0</td>\n",
       "      <td>0</td>\n",
       "      <td>0</td>\n",
       "      <td>0</td>\n",
       "      <td>0</td>\n",
       "      <td>0</td>\n",
       "      <td>0</td>\n",
       "      <td>0</td>\n",
       "      <td>0</td>\n",
       "    </tr>\n",
       "    <tr>\n",
       "      <th>3</th>\n",
       "      <td>0</td>\n",
       "      <td>0</td>\n",
       "      <td>0</td>\n",
       "      <td>0</td>\n",
       "      <td>0</td>\n",
       "      <td>0</td>\n",
       "      <td>0</td>\n",
       "      <td>0</td>\n",
       "      <td>0</td>\n",
       "      <td>0</td>\n",
       "      <td>...</td>\n",
       "      <td>0</td>\n",
       "      <td>0</td>\n",
       "      <td>0</td>\n",
       "      <td>0</td>\n",
       "      <td>0</td>\n",
       "      <td>0</td>\n",
       "      <td>0</td>\n",
       "      <td>0</td>\n",
       "      <td>0</td>\n",
       "      <td>0</td>\n",
       "    </tr>\n",
       "    <tr>\n",
       "      <th>4</th>\n",
       "      <td>0</td>\n",
       "      <td>0</td>\n",
       "      <td>0</td>\n",
       "      <td>0</td>\n",
       "      <td>0</td>\n",
       "      <td>0</td>\n",
       "      <td>0</td>\n",
       "      <td>0</td>\n",
       "      <td>0</td>\n",
       "      <td>0</td>\n",
       "      <td>...</td>\n",
       "      <td>0</td>\n",
       "      <td>0</td>\n",
       "      <td>0</td>\n",
       "      <td>0</td>\n",
       "      <td>0</td>\n",
       "      <td>0</td>\n",
       "      <td>0</td>\n",
       "      <td>0</td>\n",
       "      <td>0</td>\n",
       "      <td>0</td>\n",
       "    </tr>\n",
       "  </tbody>\n",
       "</table>\n",
       "<p>5 rows × 784 columns</p>\n",
       "</div>"
      ],
      "text/plain": [
       "   pixel0  pixel1  pixel2  pixel3  pixel4  pixel5  pixel6  pixel7  pixel8  \\\n",
       "0       0       0       0       0       0       0       0       0       0   \n",
       "1       0       0       0       0       0       0       0       0       0   \n",
       "2       0       0       0       0       0       0       0       0       0   \n",
       "3       0       0       0       0       0       0       0       0       0   \n",
       "4       0       0       0       0       0       0       0       0       0   \n",
       "\n",
       "   pixel9  ...  pixel774  pixel775  pixel776  pixel777  pixel778  pixel779  \\\n",
       "0       0  ...         0         0         0         0         0         0   \n",
       "1       0  ...         0         0         0         0         0         0   \n",
       "2       0  ...         0         0         0         0         0         0   \n",
       "3       0  ...         0         0         0         0         0         0   \n",
       "4       0  ...         0         0         0         0         0         0   \n",
       "\n",
       "   pixel780  pixel781  pixel782  pixel783  \n",
       "0         0         0         0         0  \n",
       "1         0         0         0         0  \n",
       "2         0         0         0         0  \n",
       "3         0         0         0         0  \n",
       "4         0         0         0         0  \n",
       "\n",
       "[5 rows x 784 columns]"
      ]
     },
     "execution_count": 35,
     "metadata": {},
     "output_type": "execute_result"
    }
   ],
   "source": [
    "df_test.head()"
   ]
  },
  {
   "cell_type": "code",
   "execution_count": 36,
   "id": "94e19b85",
   "metadata": {
    "execution": {
     "iopub.execute_input": "2024-09-15T00:10:16.494686Z",
     "iopub.status.busy": "2024-09-15T00:10:16.493879Z",
     "iopub.status.idle": "2024-09-15T00:10:16.502160Z",
     "shell.execute_reply": "2024-09-15T00:10:16.500891Z"
    },
    "papermill": {
     "duration": 0.041441,
     "end_time": "2024-09-15T00:10:16.504767",
     "exception": false,
     "start_time": "2024-09-15T00:10:16.463326",
     "status": "completed"
    },
    "tags": []
   },
   "outputs": [
    {
     "data": {
      "text/plain": [
       "Index(['pixel0', 'pixel1', 'pixel2', 'pixel3', 'pixel4', 'pixel5', 'pixel6',\n",
       "       'pixel7', 'pixel8', 'pixel9',\n",
       "       ...\n",
       "       'pixel774', 'pixel775', 'pixel776', 'pixel777', 'pixel778', 'pixel779',\n",
       "       'pixel780', 'pixel781', 'pixel782', 'pixel783'],\n",
       "      dtype='object', length=784)"
      ]
     },
     "execution_count": 36,
     "metadata": {},
     "output_type": "execute_result"
    }
   ],
   "source": [
    "df_test.columns"
   ]
  },
  {
   "cell_type": "code",
   "execution_count": 37,
   "id": "7cb61f34",
   "metadata": {
    "execution": {
     "iopub.execute_input": "2024-09-15T00:10:16.565789Z",
     "iopub.status.busy": "2024-09-15T00:10:16.565347Z",
     "iopub.status.idle": "2024-09-15T00:10:16.572126Z",
     "shell.execute_reply": "2024-09-15T00:10:16.570919Z"
    },
    "papermill": {
     "duration": 0.039804,
     "end_time": "2024-09-15T00:10:16.575079",
     "exception": false,
     "start_time": "2024-09-15T00:10:16.535275",
     "status": "completed"
    },
    "tags": []
   },
   "outputs": [],
   "source": [
    "submission_final = pd.DataFrame({\n",
    "    'ImageId': df_test.index + 1,  \n",
    "    'Label': preds_sub            \n",
    "})"
   ]
  },
  {
   "cell_type": "code",
   "execution_count": 38,
   "id": "5789e0f0",
   "metadata": {
    "execution": {
     "iopub.execute_input": "2024-09-15T00:10:16.634243Z",
     "iopub.status.busy": "2024-09-15T00:10:16.633795Z",
     "iopub.status.idle": "2024-09-15T00:10:16.646562Z",
     "shell.execute_reply": "2024-09-15T00:10:16.645249Z"
    },
    "papermill": {
     "duration": 0.045517,
     "end_time": "2024-09-15T00:10:16.649368",
     "exception": false,
     "start_time": "2024-09-15T00:10:16.603851",
     "status": "completed"
    },
    "tags": []
   },
   "outputs": [
    {
     "data": {
      "text/html": [
       "<div>\n",
       "<style scoped>\n",
       "    .dataframe tbody tr th:only-of-type {\n",
       "        vertical-align: middle;\n",
       "    }\n",
       "\n",
       "    .dataframe tbody tr th {\n",
       "        vertical-align: top;\n",
       "    }\n",
       "\n",
       "    .dataframe thead th {\n",
       "        text-align: right;\n",
       "    }\n",
       "</style>\n",
       "<table border=\"1\" class=\"dataframe\">\n",
       "  <thead>\n",
       "    <tr style=\"text-align: right;\">\n",
       "      <th></th>\n",
       "      <th>ImageId</th>\n",
       "      <th>Label</th>\n",
       "    </tr>\n",
       "  </thead>\n",
       "  <tbody>\n",
       "    <tr>\n",
       "      <th>0</th>\n",
       "      <td>1</td>\n",
       "      <td>2</td>\n",
       "    </tr>\n",
       "    <tr>\n",
       "      <th>1</th>\n",
       "      <td>2</td>\n",
       "      <td>0</td>\n",
       "    </tr>\n",
       "    <tr>\n",
       "      <th>2</th>\n",
       "      <td>3</td>\n",
       "      <td>9</td>\n",
       "    </tr>\n",
       "    <tr>\n",
       "      <th>3</th>\n",
       "      <td>4</td>\n",
       "      <td>9</td>\n",
       "    </tr>\n",
       "    <tr>\n",
       "      <th>4</th>\n",
       "      <td>5</td>\n",
       "      <td>3</td>\n",
       "    </tr>\n",
       "    <tr>\n",
       "      <th>...</th>\n",
       "      <td>...</td>\n",
       "      <td>...</td>\n",
       "    </tr>\n",
       "    <tr>\n",
       "      <th>27995</th>\n",
       "      <td>27996</td>\n",
       "      <td>9</td>\n",
       "    </tr>\n",
       "    <tr>\n",
       "      <th>27996</th>\n",
       "      <td>27997</td>\n",
       "      <td>7</td>\n",
       "    </tr>\n",
       "    <tr>\n",
       "      <th>27997</th>\n",
       "      <td>27998</td>\n",
       "      <td>3</td>\n",
       "    </tr>\n",
       "    <tr>\n",
       "      <th>27998</th>\n",
       "      <td>27999</td>\n",
       "      <td>9</td>\n",
       "    </tr>\n",
       "    <tr>\n",
       "      <th>27999</th>\n",
       "      <td>28000</td>\n",
       "      <td>2</td>\n",
       "    </tr>\n",
       "  </tbody>\n",
       "</table>\n",
       "<p>28000 rows × 2 columns</p>\n",
       "</div>"
      ],
      "text/plain": [
       "       ImageId  Label\n",
       "0            1      2\n",
       "1            2      0\n",
       "2            3      9\n",
       "3            4      9\n",
       "4            5      3\n",
       "...        ...    ...\n",
       "27995    27996      9\n",
       "27996    27997      7\n",
       "27997    27998      3\n",
       "27998    27999      9\n",
       "27999    28000      2\n",
       "\n",
       "[28000 rows x 2 columns]"
      ]
     },
     "execution_count": 38,
     "metadata": {},
     "output_type": "execute_result"
    }
   ],
   "source": [
    "submission_final"
   ]
  },
  {
   "cell_type": "code",
   "execution_count": 39,
   "id": "55b251da",
   "metadata": {
    "execution": {
     "iopub.execute_input": "2024-09-15T00:10:16.708531Z",
     "iopub.status.busy": "2024-09-15T00:10:16.708120Z",
     "iopub.status.idle": "2024-09-15T00:10:16.753675Z",
     "shell.execute_reply": "2024-09-15T00:10:16.752441Z"
    },
    "papermill": {
     "duration": 0.078427,
     "end_time": "2024-09-15T00:10:16.756453",
     "exception": false,
     "start_time": "2024-09-15T00:10:16.678026",
     "status": "completed"
    },
    "tags": []
   },
   "outputs": [],
   "source": [
    "submission_final.to_csv('/kaggle/working/submission.csv', index=False, sep=',')"
   ]
  },
  {
   "cell_type": "code",
   "execution_count": 40,
   "id": "33b6e4e8",
   "metadata": {
    "execution": {
     "iopub.execute_input": "2024-09-15T00:10:16.816336Z",
     "iopub.status.busy": "2024-09-15T00:10:16.815047Z",
     "iopub.status.idle": "2024-09-15T00:10:16.823277Z",
     "shell.execute_reply": "2024-09-15T00:10:16.822099Z"
    },
    "papermill": {
     "duration": 0.040653,
     "end_time": "2024-09-15T00:10:16.825852",
     "exception": false,
     "start_time": "2024-09-15T00:10:16.785199",
     "status": "completed"
    },
    "tags": []
   },
   "outputs": [
    {
     "data": {
      "text/plain": [
       "['__notebook__.ipynb', 'experiment_v0.log', 'automl.pkl', 'submission.csv']"
      ]
     },
     "execution_count": 40,
     "metadata": {},
     "output_type": "execute_result"
    }
   ],
   "source": [
    "import os\n",
    "os.listdir('/kaggle/working')"
   ]
  }
 ],
 "metadata": {
  "kaggle": {
   "accelerator": "none",
   "dataSources": [
    {
     "databundleVersionId": 861823,
     "sourceId": 3004,
     "sourceType": "competition"
    }
   ],
   "dockerImageVersionId": 30761,
   "isGpuEnabled": false,
   "isInternetEnabled": true,
   "language": "python",
   "sourceType": "notebook"
  },
  "kernelspec": {
   "display_name": "Python 3",
   "language": "python",
   "name": "python3"
  },
  "language_info": {
   "codemirror_mode": {
    "name": "ipython",
    "version": 3
   },
   "file_extension": ".py",
   "mimetype": "text/x-python",
   "name": "python",
   "nbconvert_exporter": "python",
   "pygments_lexer": "ipython3",
   "version": "3.10.14"
  },
  "papermill": {
   "default_parameters": {},
   "duration": 710.0262,
   "end_time": "2024-09-15T00:10:18.079295",
   "environment_variables": {},
   "exception": null,
   "input_path": "__notebook__.ipynb",
   "output_path": "__notebook__.ipynb",
   "parameters": {},
   "start_time": "2024-09-14T23:58:28.053095",
   "version": "2.6.0"
  }
 },
 "nbformat": 4,
 "nbformat_minor": 5
}
